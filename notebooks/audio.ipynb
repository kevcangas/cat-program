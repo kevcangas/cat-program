{
 "cells": [
  {
   "attachments": {},
   "cell_type": "markdown",
   "metadata": {},
   "source": [
    "## Carga de librerías"
   ]
  },
  {
   "cell_type": "code",
   "execution_count": 1,
   "metadata": {},
   "outputs": [],
   "source": [
    "from playsound import playsound"
   ]
  },
  {
   "attachments": {},
   "cell_type": "markdown",
   "metadata": {},
   "source": [
    "## Reproducción de audio"
   ]
  },
  {
   "cell_type": "code",
   "execution_count": 11,
   "metadata": {},
   "outputs": [
    {
     "ename": "KeyboardInterrupt",
     "evalue": "",
     "output_type": "error",
     "traceback": [
      "\u001b[0;31m---------------------------------------------------------------------------\u001b[0m",
      "\u001b[0;31mKeyboardInterrupt\u001b[0m                         Traceback (most recent call last)",
      "Cell \u001b[0;32mIn[11], line 2\u001b[0m\n\u001b[1;32m      1\u001b[0m ruta_audio \u001b[39m=\u001b[39m \u001b[39m'\u001b[39m\u001b[39m/home/gato/TT2/programa_gato/data/audios/gato_1.mp3\u001b[39m\u001b[39m'\u001b[39m\n\u001b[0;32m----> 2\u001b[0m playsound(ruta_audio)\n",
      "File \u001b[0;32m~/TT2/programa_gato/venv/lib/python3.9/site-packages/playsound.py:189\u001b[0m, in \u001b[0;36m_playsoundNix\u001b[0;34m(sound, block)\u001b[0m\n\u001b[1;32m    187\u001b[0m bus \u001b[39m=\u001b[39m playbin\u001b[39m.\u001b[39mget_bus()\n\u001b[1;32m    188\u001b[0m \u001b[39mtry\u001b[39;00m:\n\u001b[0;32m--> 189\u001b[0m     bus\u001b[39m.\u001b[39;49mpoll(Gst\u001b[39m.\u001b[39;49mMessageType\u001b[39m.\u001b[39;49mEOS, Gst\u001b[39m.\u001b[39;49mCLOCK_TIME_NONE)\n\u001b[1;32m    190\u001b[0m \u001b[39mfinally\u001b[39;00m:\n\u001b[1;32m    191\u001b[0m     playbin\u001b[39m.\u001b[39mset_state(Gst\u001b[39m.\u001b[39mState\u001b[39m.\u001b[39mNULL)\n",
      "\u001b[0;31mKeyboardInterrupt\u001b[0m: "
     ]
    }
   ],
   "source": [
    "ruta_audio = '/home/gato/TT2/programa_gato/data/audios/gato_1.mp3'\n",
    "playsound(ruta_audio)"
   ]
  }
 ],
 "metadata": {
  "kernelspec": {
   "display_name": "venv",
   "language": "python",
   "name": "python3"
  },
  "language_info": {
   "codemirror_mode": {
    "name": "ipython",
    "version": 3
   },
   "file_extension": ".py",
   "mimetype": "text/x-python",
   "name": "python",
   "nbconvert_exporter": "python",
   "pygments_lexer": "ipython3",
   "version": "3.9.2"
  },
  "orig_nbformat": 4
 },
 "nbformat": 4,
 "nbformat_minor": 2
}
