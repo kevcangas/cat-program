{
 "cells": [
  {
   "attachments": {},
   "cell_type": "markdown",
   "metadata": {},
   "source": [
    "## Carga de librerías"
   ]
  },
  {
   "cell_type": "code",
   "execution_count": 13,
   "metadata": {},
   "outputs": [],
   "source": [
    "from playsound import playsound"
   ]
  },
  {
   "attachments": {},
   "cell_type": "markdown",
   "metadata": {},
   "source": [
    "## Reproducción de audio"
   ]
  },
  {
   "cell_type": "code",
   "execution_count": 16,
   "metadata": {},
   "outputs": [
    {
     "ename": "KeyboardInterrupt",
     "evalue": "",
     "output_type": "error",
     "traceback": [
      "\u001b[0;31m---------------------------------------------------------------------------\u001b[0m",
      "\u001b[0;31mKeyboardInterrupt\u001b[0m                         Traceback (most recent call last)",
      "Cell \u001b[0;32mIn[16], line 3\u001b[0m\n\u001b[1;32m      1\u001b[0m ruta_audio \u001b[39m=\u001b[39m \u001b[39m'\u001b[39m\u001b[39mgato_1.mp3\u001b[39m\u001b[39m'\u001b[39m\n\u001b[0;32m----> 3\u001b[0m playsound(ruta_audio)\n",
      "File \u001b[0;32m~/TT2/programa_gato/venv/lib/python3.9/site-packages/playsound.py:254\u001b[0m, in \u001b[0;36m<lambda>\u001b[0;34m(sound, block)\u001b[0m\n\u001b[1;32m    252\u001b[0m         \u001b[39mexcept\u001b[39;00m:\n\u001b[1;32m    253\u001b[0m             logger\u001b[39m.\u001b[39mwarning(\u001b[39m\"\u001b[39m\u001b[39mplaysound is relying on another python subprocess. Please use `pip install pygobject` if you want playsound to run more efficiently.\u001b[39m\u001b[39m\"\u001b[39m)\n\u001b[0;32m--> 254\u001b[0m             playsound \u001b[39m=\u001b[39m \u001b[39mlambda\u001b[39;00m sound, block \u001b[39m=\u001b[39m \u001b[39mTrue\u001b[39;00m: _playsoundAnotherPython(\u001b[39m'\u001b[39;49m\u001b[39m/usr/bin/python3\u001b[39;49m\u001b[39m'\u001b[39;49m, sound, block, macOS \u001b[39m=\u001b[39;49m \u001b[39mFalse\u001b[39;49;00m)\n\u001b[1;32m    256\u001b[0m \u001b[39mdel\u001b[39;00m system\n\u001b[1;32m    258\u001b[0m \u001b[39mif\u001b[39;00m \u001b[39m__name__\u001b[39m \u001b[39m==\u001b[39m \u001b[39m'\u001b[39m\u001b[39m__main__\u001b[39m\u001b[39m'\u001b[39m:\n\u001b[1;32m    259\u001b[0m     \u001b[39m# block is always True if you choose to run this from the command line.\u001b[39;00m\n",
      "File \u001b[0;32m~/TT2/programa_gato/venv/lib/python3.9/site-packages/playsound.py:229\u001b[0m, in \u001b[0;36m_playsoundAnotherPython\u001b[0;34m(otherPython, sound, block, macOS)\u001b[0m\n\u001b[1;32m    227\u001b[0m t\u001b[39m.\u001b[39mstart()\n\u001b[1;32m    228\u001b[0m \u001b[39mif\u001b[39;00m block:\n\u001b[0;32m--> 229\u001b[0m     t\u001b[39m.\u001b[39;49mjoin()\n",
      "File \u001b[0;32m~/TT2/programa_gato/venv/lib/python3.9/site-packages/playsound.py:216\u001b[0m, in \u001b[0;36m_playsoundAnotherPython.<locals>.PropogatingThread.join\u001b[0;34m(self, timeout)\u001b[0m\n\u001b[1;32m    215\u001b[0m \u001b[39mdef\u001b[39;00m \u001b[39mjoin\u001b[39m(\u001b[39mself\u001b[39m, timeout \u001b[39m=\u001b[39m \u001b[39mNone\u001b[39;00m):\n\u001b[0;32m--> 216\u001b[0m     \u001b[39msuper\u001b[39;49m()\u001b[39m.\u001b[39;49mjoin(timeout)\n\u001b[1;32m    217\u001b[0m     \u001b[39mif\u001b[39;00m \u001b[39mself\u001b[39m\u001b[39m.\u001b[39mexc:\n\u001b[1;32m    218\u001b[0m         \u001b[39mraise\u001b[39;00m \u001b[39mself\u001b[39m\u001b[39m.\u001b[39mexc\n",
      "File \u001b[0;32m/usr/lib/python3.9/threading.py:1033\u001b[0m, in \u001b[0;36mThread.join\u001b[0;34m(self, timeout)\u001b[0m\n\u001b[1;32m   1030\u001b[0m     \u001b[39mraise\u001b[39;00m \u001b[39mRuntimeError\u001b[39;00m(\u001b[39m\"\u001b[39m\u001b[39mcannot join current thread\u001b[39m\u001b[39m\"\u001b[39m)\n\u001b[1;32m   1032\u001b[0m \u001b[39mif\u001b[39;00m timeout \u001b[39mis\u001b[39;00m \u001b[39mNone\u001b[39;00m:\n\u001b[0;32m-> 1033\u001b[0m     \u001b[39mself\u001b[39;49m\u001b[39m.\u001b[39;49m_wait_for_tstate_lock()\n\u001b[1;32m   1034\u001b[0m \u001b[39melse\u001b[39;00m:\n\u001b[1;32m   1035\u001b[0m     \u001b[39m# the behavior of a negative timeout isn't documented, but\u001b[39;00m\n\u001b[1;32m   1036\u001b[0m     \u001b[39m# historically .join(timeout=x) for x<0 has acted as if timeout=0\u001b[39;00m\n\u001b[1;32m   1037\u001b[0m     \u001b[39mself\u001b[39m\u001b[39m.\u001b[39m_wait_for_tstate_lock(timeout\u001b[39m=\u001b[39m\u001b[39mmax\u001b[39m(timeout, \u001b[39m0\u001b[39m))\n",
      "File \u001b[0;32m/usr/lib/python3.9/threading.py:1049\u001b[0m, in \u001b[0;36mThread._wait_for_tstate_lock\u001b[0;34m(self, block, timeout)\u001b[0m\n\u001b[1;32m   1047\u001b[0m \u001b[39mif\u001b[39;00m lock \u001b[39mis\u001b[39;00m \u001b[39mNone\u001b[39;00m:  \u001b[39m# already determined that the C code is done\u001b[39;00m\n\u001b[1;32m   1048\u001b[0m     \u001b[39massert\u001b[39;00m \u001b[39mself\u001b[39m\u001b[39m.\u001b[39m_is_stopped\n\u001b[0;32m-> 1049\u001b[0m \u001b[39melif\u001b[39;00m lock\u001b[39m.\u001b[39;49macquire(block, timeout):\n\u001b[1;32m   1050\u001b[0m     lock\u001b[39m.\u001b[39mrelease()\n\u001b[1;32m   1051\u001b[0m     \u001b[39mself\u001b[39m\u001b[39m.\u001b[39m_stop()\n",
      "\u001b[0;31mKeyboardInterrupt\u001b[0m: "
     ]
    }
   ],
   "source": [
    "ruta_audio = '/home/gato/TT2/programa_gato/data/audios/gato_1.mp3'\n",
    "\n",
    "playsound(ruta_audio)"
   ]
  }
 ],
 "metadata": {
  "kernelspec": {
   "display_name": "venv",
   "language": "python",
   "name": "python3"
  },
  "language_info": {
   "codemirror_mode": {
    "name": "ipython",
    "version": 3
   },
   "file_extension": ".py",
   "mimetype": "text/x-python",
   "name": "python",
   "nbconvert_exporter": "python",
   "pygments_lexer": "ipython3",
   "version": "3.9.2"
  },
  "orig_nbformat": 4
 },
 "nbformat": 4,
 "nbformat_minor": 2
}
