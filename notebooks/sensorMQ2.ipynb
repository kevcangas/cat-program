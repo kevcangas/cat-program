{
 "cells": [
  {
   "attachments": {},
   "cell_type": "markdown",
   "metadata": {},
   "source": [
    "## Carga de librerías"
   ]
  },
  {
   "cell_type": "code",
   "execution_count": 1,
   "metadata": {},
   "outputs": [],
   "source": [
    "import busio\n",
    "import digitalio\n",
    "import board\n",
    "import adafruit_mcp3xxx.mcp3004 as MCP\n",
    "from adafruit_mcp3xxx.analog_in import AnalogIn"
   ]
  },
  {
   "attachments": {},
   "cell_type": "markdown",
   "metadata": {},
   "source": [
    "## Creación de objetos"
   ]
  },
  {
   "cell_type": "code",
   "execution_count": 2,
   "metadata": {},
   "outputs": [],
   "source": [
    "#Creación del canal SPI\n",
    "spi = busio.SPI(clock=board.SCK, MISO=board.MISO, MOSI=board.MOSI)\n",
    "\n",
    "#Selección del pin donde se conecta el CS del MCP3008 en la rasp\n",
    "cs = digitalio.DigitalInOut(board.D5) #D5=GPIO5\n",
    "\n",
    "#Creación del objeto MCP3008\n",
    "mcp = MCP.MCP3004(spi, cs)\n",
    "\n",
    "#Creación de una entrada analogica en el canal 0 del MCP3008\n",
    "chan = AnalogIn(mcp, MCP.P0)"
   ]
  },
  {
   "attachments": {},
   "cell_type": "markdown",
   "metadata": {},
   "source": [
    "## Muestra del valor del MCP3008"
   ]
  },
  {
   "cell_type": "code",
   "execution_count": 28,
   "metadata": {},
   "outputs": [
    {
     "name": "stdout",
     "output_type": "stream",
     "text": [
      "Raw ADC Value:  65472\n",
      "ADC Voltage: 3.2968276493476765V\n"
     ]
    }
   ],
   "source": [
    "print('Raw ADC Value: ', chan.value)\n",
    "print('ADC Voltage: ' + str(chan.voltage) + 'V')"
   ]
  }
 ],
 "metadata": {
  "kernelspec": {
   "display_name": "venv",
   "language": "python",
   "name": "python3"
  },
  "language_info": {
   "codemirror_mode": {
    "name": "ipython",
    "version": 3
   },
   "file_extension": ".py",
   "mimetype": "text/x-python",
   "name": "python",
   "nbconvert_exporter": "python",
   "pygments_lexer": "ipython3",
   "version": "3.9.2"
  },
  "orig_nbformat": 4
 },
 "nbformat": 4,
 "nbformat_minor": 2
}
