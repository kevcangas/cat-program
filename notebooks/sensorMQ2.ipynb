{
 "cells": [
  {
   "attachments": {},
   "cell_type": "markdown",
   "metadata": {},
   "source": [
    "## Carga de librerías"
   ]
  },
  {
   "cell_type": "code",
   "execution_count": null,
   "metadata": {},
   "outputs": [],
   "source": [
    "import busio\n",
    "import digitalio\n",
    "import board\n",
    "import adafruit_mcp3xxx.mcp3008 as MCP\n",
    "from adafruit_mcp3xxx.analog_in import AnalogIn"
   ]
  },
  {
   "attachments": {},
   "cell_type": "markdown",
   "metadata": {},
   "source": [
    "## Creación de objetos"
   ]
  },
  {
   "cell_type": "code",
   "execution_count": null,
   "metadata": {},
   "outputs": [],
   "source": [
    "#Creación del canal SPI\n",
    "spi = busio.SPI(clock=board.SCK, MISO=board.MISO, MOSI=board.MOSI)\n",
    "\n",
    "#Selección del pin donde se conecta el CS del MCP3008 en la rasp\n",
    "cs = digitalio.DigitalInOut(board.D5) #D5=GPIO5\n",
    "\n",
    "#Creación del objeto MCP3008\n",
    "mcp = MCP.MCP3008(spi, cs)\n",
    "\n",
    "#Creación de una entrada analogica en el canal 0 del MCP3008\n",
    "chan = AnalogIn(mcp, MCP.P0)"
   ]
  },
  {
   "attachments": {},
   "cell_type": "markdown",
   "metadata": {},
   "source": [
    "## Muestra del valor del MCP3008"
   ]
  },
  {
   "cell_type": "code",
   "execution_count": null,
   "metadata": {},
   "outputs": [],
   "source": [
    "print('Raw ADC Value: ', chan.value)\n",
    "print('ADC Voltage: ' + str(chan.voltage) + 'V')"
   ]
  }
 ],
 "metadata": {
  "language_info": {
   "name": "python"
  },
  "orig_nbformat": 4
 },
 "nbformat": 4,
 "nbformat_minor": 2
}
