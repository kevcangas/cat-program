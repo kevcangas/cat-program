{
 "cells": [
  {
   "attachments": {},
   "cell_type": "markdown",
   "metadata": {},
   "source": [
    "## Carga librerías"
   ]
  },
  {
   "cell_type": "code",
   "execution_count": 18,
   "metadata": {},
   "outputs": [],
   "source": [
    "from luma.core.interface.serial import i2c\n",
    "from luma.oled.device import ssd1306\n",
    "from PIL import Image"
   ]
  },
  {
   "attachments": {},
   "cell_type": "markdown",
   "metadata": {},
   "source": [
    "## Configuración de las pantallas"
   ]
  },
  {
   "cell_type": "code",
   "execution_count": 22,
   "metadata": {},
   "outputs": [],
   "source": [
    "def configuracion_pantalla(port,address):\n",
    "    serial = i2c(port=port, address=address) #port:usualmente 1 o 2 #address: dirección de la pantalla\n",
    "    oled = ssd1306(serial)\n",
    "    return oled"
   ]
  },
  {
   "attachments": {},
   "cell_type": "markdown",
   "metadata": {},
   "source": [
    "## Imagenes a cargar"
   ]
  },
  {
   "cell_type": "code",
   "execution_count": 2,
   "metadata": {},
   "outputs": [],
   "source": [
    "#Retorna una tupla con las imagenes cargadas \n",
    "def carga_imagenes():\n",
    "\n",
    "    feliz_R = Image.open(r\"/home/gato/TT2/programa_gato/data/expresiones/feliz_R.bmp\")\n",
    "    feliz_L = Image.open(r\"/home/gato/TT2/programa_gato/data/expresiones/feliz_L.bmp\")\n",
    "\n",
    "    neutral_R = Image.open(r\"/home/gato/TT2/programa_gato/data/expresiones/neutral_R.bmp\")\n",
    "    neutral_L = Image.open(r\"/home/gato/TT2/programa_gato/data/expresiones/neutral_L.bmp\")\n",
    "\n",
    "    preocupado_R = Image.open(r\"/home/gato/TT2/programa_gato/data/expresiones/preocupado_R.bmp\")\n",
    "    preocupado_L = Image.open(r\"/home/gato/TT2/programa_gato/data/expresiones/preocupado_L.bmp\")\n",
    "\n",
    "    sueno_R = Image.open(r\"/home/gato/TT2/programa_gato/data/expresiones/sueno_R.bmp\")\n",
    "    sueno_L = Image.open(r\"/home/gato/TT2/programa_gato/data/expresiones/sueno_L.bmp\")\n",
    "\n",
    "    triste1_R = Image.open(r\"/home/gato/TT2/programa_gato/data/expresiones/triste1_R.bmp\")\n",
    "    triste1_L = Image.open(r\"/home/gato/TT2/programa_gato/data/expresiones/triste1_L.bmp\")\n",
    "\n",
    "    triste2_R = Image.open(r\"/home/gato/TT2/programa_gato/data/expresiones/triste2_R.bmp\")\n",
    "    triste2_L = Image.open(r\"/home/gato/TT2/programa_gato/data/expresiones/triste2_L.bmp\")\n",
    "\n",
    "    expresiones = ((feliz_R,feliz_L),(neutral_R,neutral_L),(preocupado_R,preocupado_L),\n",
    "                (sueno_R,sueno_L),(triste1_R,triste1_L),(triste2_R,triste2_L))\n",
    "    \n",
    "    return expresiones\n"
   ]
  },
  {
   "attachments": {},
   "cell_type": "markdown",
   "metadata": {},
   "source": [
    "## Desplegar imagenes"
   ]
  },
  {
   "cell_type": "code",
   "execution_count": 6,
   "metadata": {},
   "outputs": [],
   "source": [
    "def mostrar_imagen(imagenes,oled1:ssd1306,oled2:ssd1306):\n",
    "    oled1.clear()\n",
    "    oled2.clear()\n",
    "    oled1.display(imagenes[0])\n",
    "    oled2.display(imagenes[1])\n",
    "    return"
   ]
  },
  {
   "cell_type": "code",
   "execution_count": 5,
   "metadata": {},
   "outputs": [],
   "source": [
    "def mostrar_imagen_una_pantalla(imagenes,oled1:ssd1306):\n",
    "    oled1.clear()\n",
    "    oled1.display(imagenes[0])\n",
    "    return"
   ]
  },
  {
   "attachments": {},
   "cell_type": "markdown",
   "metadata": {},
   "source": [
    "## Emulación"
   ]
  },
  {
   "cell_type": "code",
   "execution_count": 1,
   "metadata": {},
   "outputs": [
    {
     "name": "stdout",
     "output_type": "stream",
     "text": [
      "pygame 2.2.0 (SDL 2.0.22, Python 3.10.8)\n",
      "Hello from the pygame community. https://www.pygame.org/contribute.html\n"
     ]
    },
    {
     "ename": "",
     "evalue": "",
     "output_type": "error",
     "traceback": [
      "\u001b[1;31mThe Kernel crashed while executing code in the the current cell or a previous cell. Please review the code in the cell(s) to identify a possible cause of the failure. Click <a href='https://aka.ms/vscodeJupyterKernelCrash'>here</a> for more info. View Jupyter <a href='command:jupyter.viewOutput'>log</a> for further details."
     ]
    }
   ],
   "source": [
    "from luma.emulator.device import pygame\n",
    "from PIL import Image\n",
    "\n",
    "im = Image.open(r\"C:\\Users\\kevin\\desktop\\10moSemestre\\TT2\\Programacion\\programa_rasp\\data\\expresiones\\feliz.bmp\")\n",
    "oled = pygame()\n",
    "oled.clear()\n",
    "oled.display(im)"
   ]
  },
  {
   "cell_type": "code",
   "execution_count": 25,
   "metadata": {},
   "outputs": [
    {
     "ename": "DeviceNotFoundError",
     "evalue": "I2C device not found on address: 0x3C",
     "output_type": "error",
     "traceback": [
      "\u001b[0;31m---------------------------------------------------------------------------\u001b[0m",
      "\u001b[0;31mOSError\u001b[0m                                   Traceback (most recent call last)",
      "File \u001b[0;32m~/TT2/programa_gato/venv/lib/python3.9/site-packages/luma/core/interface/serial.py:96\u001b[0m, in \u001b[0;36mi2c.command\u001b[0;34m(self, *cmd)\u001b[0m\n\u001b[1;32m     95\u001b[0m \u001b[39mtry\u001b[39;00m:\n\u001b[0;32m---> 96\u001b[0m     \u001b[39mself\u001b[39;49m\u001b[39m.\u001b[39;49m_bus\u001b[39m.\u001b[39;49mwrite_i2c_block_data(\u001b[39mself\u001b[39;49m\u001b[39m.\u001b[39;49m_addr, \u001b[39mself\u001b[39;49m\u001b[39m.\u001b[39;49m_cmd_mode,\n\u001b[1;32m     97\u001b[0m                                    \u001b[39mlist\u001b[39;49m(cmd))\n\u001b[1;32m     98\u001b[0m \u001b[39mexcept\u001b[39;00m (\u001b[39mIOError\u001b[39;00m, \u001b[39mOSError\u001b[39;00m) \u001b[39mas\u001b[39;00m e:\n",
      "File \u001b[0;32m~/TT2/programa_gato/venv/lib/python3.9/site-packages/smbus2/smbus2.py:643\u001b[0m, in \u001b[0;36mSMBus.write_i2c_block_data\u001b[0;34m(self, i2c_addr, register, data, force)\u001b[0m\n\u001b[1;32m    642\u001b[0m msg\u001b[39m.\u001b[39mdata\u001b[39m.\u001b[39mcontents\u001b[39m.\u001b[39mblock[\u001b[39m1\u001b[39m:length \u001b[39m+\u001b[39m \u001b[39m1\u001b[39m] \u001b[39m=\u001b[39m data\n\u001b[0;32m--> 643\u001b[0m ioctl(\u001b[39mself\u001b[39;49m\u001b[39m.\u001b[39;49mfd, I2C_SMBUS, msg)\n",
      "\u001b[0;31mOSError\u001b[0m: [Errno 121] Remote I/O error",
      "\nDuring handling of the above exception, another exception occurred:\n",
      "\u001b[0;31mDeviceNotFoundError\u001b[0m                       Traceback (most recent call last)",
      "Cell \u001b[0;32mIn[25], line 2\u001b[0m\n\u001b[1;32m      1\u001b[0m imagenes \u001b[39m=\u001b[39m carga_imagenes()\n\u001b[0;32m----> 2\u001b[0m oled \u001b[39m=\u001b[39m configuracion_pantalla(\u001b[39m1\u001b[39;49m, \u001b[39m0x3c\u001b[39;49m)\n\u001b[1;32m      3\u001b[0m mostrar_imagen_una_pantalla(imagenes[\u001b[39m2\u001b[39m], oled)\n",
      "Cell \u001b[0;32mIn[22], line 3\u001b[0m, in \u001b[0;36mconfiguracion_pantalla\u001b[0;34m(port, address)\u001b[0m\n\u001b[1;32m      1\u001b[0m \u001b[39mdef\u001b[39;00m \u001b[39mconfiguracion_pantalla\u001b[39m(port,address):\n\u001b[1;32m      2\u001b[0m     serial \u001b[39m=\u001b[39m i2c(port\u001b[39m=\u001b[39mport, address\u001b[39m=\u001b[39maddress) \u001b[39m#port:usualmente 1 o 2 #address: dirección de la pantalla\u001b[39;00m\n\u001b[0;32m----> 3\u001b[0m     oled \u001b[39m=\u001b[39m ssd1306(serial)\n\u001b[1;32m      4\u001b[0m     \u001b[39mreturn\u001b[39;00m oled\n",
      "File \u001b[0;32m~/TT2/programa_gato/venv/lib/python3.9/site-packages/luma/oled/device/__init__.py:261\u001b[0m, in \u001b[0;36mssd1306.__init__\u001b[0;34m(self, serial_interface, width, height, rotate, **kwargs)\u001b[0m\n\u001b[1;32m    258\u001b[0m \u001b[39mself\u001b[39m\u001b[39m.\u001b[39m_colstart \u001b[39m=\u001b[39m settings[\u001b[39m'\u001b[39m\u001b[39mcolstart\u001b[39m\u001b[39m'\u001b[39m]\n\u001b[1;32m    259\u001b[0m \u001b[39mself\u001b[39m\u001b[39m.\u001b[39m_colend \u001b[39m=\u001b[39m \u001b[39mself\u001b[39m\u001b[39m.\u001b[39m_colstart \u001b[39m+\u001b[39m \u001b[39mself\u001b[39m\u001b[39m.\u001b[39m_w\n\u001b[0;32m--> 261\u001b[0m \u001b[39mself\u001b[39;49m\u001b[39m.\u001b[39;49mcommand(\n\u001b[1;32m    262\u001b[0m     \u001b[39mself\u001b[39;49m\u001b[39m.\u001b[39;49m_const\u001b[39m.\u001b[39;49mDISPLAYOFF,\n\u001b[1;32m    263\u001b[0m     \u001b[39mself\u001b[39;49m\u001b[39m.\u001b[39;49m_const\u001b[39m.\u001b[39;49mSETDISPLAYCLOCKDIV, settings[\u001b[39m'\u001b[39;49m\u001b[39mdisplayclockdiv\u001b[39;49m\u001b[39m'\u001b[39;49m],\n\u001b[1;32m    264\u001b[0m     \u001b[39mself\u001b[39;49m\u001b[39m.\u001b[39;49m_const\u001b[39m.\u001b[39;49mSETMULTIPLEX,       settings[\u001b[39m'\u001b[39;49m\u001b[39mmultiplex\u001b[39;49m\u001b[39m'\u001b[39;49m],\n\u001b[1;32m    265\u001b[0m     \u001b[39mself\u001b[39;49m\u001b[39m.\u001b[39;49m_const\u001b[39m.\u001b[39;49mSETDISPLAYOFFSET,   \u001b[39m0x00\u001b[39;49m,\n\u001b[1;32m    266\u001b[0m     \u001b[39mself\u001b[39;49m\u001b[39m.\u001b[39;49m_const\u001b[39m.\u001b[39;49mSETSTARTLINE,\n\u001b[1;32m    267\u001b[0m     \u001b[39mself\u001b[39;49m\u001b[39m.\u001b[39;49m_const\u001b[39m.\u001b[39;49mCHARGEPUMP,         \u001b[39m0x14\u001b[39;49m,\n\u001b[1;32m    268\u001b[0m     \u001b[39mself\u001b[39;49m\u001b[39m.\u001b[39;49m_const\u001b[39m.\u001b[39;49mMEMORYMODE,         \u001b[39m0x00\u001b[39;49m,\n\u001b[1;32m    269\u001b[0m     \u001b[39mself\u001b[39;49m\u001b[39m.\u001b[39;49m_const\u001b[39m.\u001b[39;49mSETSEGMENTREMAP,\n\u001b[1;32m    270\u001b[0m     \u001b[39mself\u001b[39;49m\u001b[39m.\u001b[39;49m_const\u001b[39m.\u001b[39;49mCOMSCANDEC,\n\u001b[1;32m    271\u001b[0m     \u001b[39mself\u001b[39;49m\u001b[39m.\u001b[39;49m_const\u001b[39m.\u001b[39;49mSETCOMPINS,         settings[\u001b[39m'\u001b[39;49m\u001b[39mcompins\u001b[39;49m\u001b[39m'\u001b[39;49m],\n\u001b[1;32m    272\u001b[0m     \u001b[39mself\u001b[39;49m\u001b[39m.\u001b[39;49m_const\u001b[39m.\u001b[39;49mSETPRECHARGE,       \u001b[39m0xF1\u001b[39;49m,\n\u001b[1;32m    273\u001b[0m     \u001b[39mself\u001b[39;49m\u001b[39m.\u001b[39;49m_const\u001b[39m.\u001b[39;49mSETVCOMDETECT,      \u001b[39m0x40\u001b[39;49m,\n\u001b[1;32m    274\u001b[0m     \u001b[39mself\u001b[39;49m\u001b[39m.\u001b[39;49m_const\u001b[39m.\u001b[39;49mDISPLAYALLON_RESUME,\n\u001b[1;32m    275\u001b[0m     \u001b[39mself\u001b[39;49m\u001b[39m.\u001b[39;49m_const\u001b[39m.\u001b[39;49mNORMALDISPLAY)\n\u001b[1;32m    277\u001b[0m \u001b[39mself\u001b[39m\u001b[39m.\u001b[39mcontrast(\u001b[39m0xCF\u001b[39m)\n\u001b[1;32m    278\u001b[0m \u001b[39mself\u001b[39m\u001b[39m.\u001b[39mclear()\n",
      "File \u001b[0;32m~/TT2/programa_gato/venv/lib/python3.9/site-packages/luma/core/device.py:48\u001b[0m, in \u001b[0;36mdevice.command\u001b[0;34m(self, *cmd)\u001b[0m\n\u001b[1;32m     43\u001b[0m \u001b[39mdef\u001b[39;00m \u001b[39mcommand\u001b[39m(\u001b[39mself\u001b[39m, \u001b[39m*\u001b[39mcmd):\n\u001b[1;32m     44\u001b[0m \u001b[39m    \u001b[39m\u001b[39m\"\"\"\u001b[39;00m\n\u001b[1;32m     45\u001b[0m \u001b[39m    Sends a command or sequence of commands through to the delegated\u001b[39;00m\n\u001b[1;32m     46\u001b[0m \u001b[39m    serial interface.\u001b[39;00m\n\u001b[1;32m     47\u001b[0m \u001b[39m    \"\"\"\u001b[39;00m\n\u001b[0;32m---> 48\u001b[0m     \u001b[39mself\u001b[39;49m\u001b[39m.\u001b[39;49m_serial_interface\u001b[39m.\u001b[39;49mcommand(\u001b[39m*\u001b[39;49mcmd)\n",
      "File \u001b[0;32m~/TT2/programa_gato/venv/lib/python3.9/site-packages/luma/core/interface/serial.py:101\u001b[0m, in \u001b[0;36mi2c.command\u001b[0;34m(self, *cmd)\u001b[0m\n\u001b[1;32m     98\u001b[0m \u001b[39mexcept\u001b[39;00m (\u001b[39mIOError\u001b[39;00m, \u001b[39mOSError\u001b[39;00m) \u001b[39mas\u001b[39;00m e:\n\u001b[1;32m     99\u001b[0m     \u001b[39mif\u001b[39;00m e\u001b[39m.\u001b[39merrno \u001b[39min\u001b[39;00m [errno\u001b[39m.\u001b[39mEREMOTEIO, errno\u001b[39m.\u001b[39mEIO]:\n\u001b[1;32m    100\u001b[0m         \u001b[39m# I/O error\u001b[39;00m\n\u001b[0;32m--> 101\u001b[0m         \u001b[39mraise\u001b[39;00m luma\u001b[39m.\u001b[39mcore\u001b[39m.\u001b[39merror\u001b[39m.\u001b[39mDeviceNotFoundError(\n\u001b[1;32m    102\u001b[0m             \u001b[39m'\u001b[39m\u001b[39mI2C device not found on address: 0x\u001b[39m\u001b[39m{0:02X}\u001b[39;00m\u001b[39m'\u001b[39m\u001b[39m.\u001b[39mformat(\u001b[39mself\u001b[39m\u001b[39m.\u001b[39m_addr))\n\u001b[1;32m    103\u001b[0m     \u001b[39melse\u001b[39;00m:  \u001b[39m# pragma: no cover\u001b[39;00m\n\u001b[1;32m    104\u001b[0m         \u001b[39mraise\u001b[39;00m\n",
      "\u001b[0;31mDeviceNotFoundError\u001b[0m: I2C device not found on address: 0x3C"
     ]
    }
   ],
   "source": [
    "imagenes = carga_imagenes()\n",
    "oled = configuracion_pantalla(0, 0x3c)\n",
    "mostrar_imagen_una_pantalla(imagenes[2], oled)"
   ]
  }
 ],
 "metadata": {
  "kernelspec": {
   "display_name": "venv",
   "language": "python",
   "name": "python3"
  },
  "language_info": {
   "codemirror_mode": {
    "name": "ipython",
    "version": 3
   },
   "file_extension": ".py",
   "mimetype": "text/x-python",
   "name": "python",
   "nbconvert_exporter": "python",
   "pygments_lexer": "ipython3",
   "version": "3.9.2"
  },
  "orig_nbformat": 4,
  "vscode": {
   "interpreter": {
    "hash": "64156ec40057e4dbd6f707df17c5ceaf0ca2bcfe547d205fbb2a5937773354b9"
   }
  }
 },
 "nbformat": 4,
 "nbformat_minor": 2
}
