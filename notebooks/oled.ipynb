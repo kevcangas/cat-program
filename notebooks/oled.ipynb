{
 "cells": [
  {
   "attachments": {},
   "cell_type": "markdown",
   "metadata": {},
   "source": [
    "## Carga librerías"
   ]
  },
  {
   "cell_type": "code",
   "execution_count": 1,
   "metadata": {},
   "outputs": [],
   "source": [
    "from luma.core.interface.serial import i2c\n",
    "from luma.oled.device import ssd1306\n",
    "from PIL import Image"
   ]
  },
  {
   "attachments": {},
   "cell_type": "markdown",
   "metadata": {},
   "source": [
    "## Configuración de las pantallas"
   ]
  },
  {
   "cell_type": "code",
   "execution_count": 18,
   "metadata": {},
   "outputs": [],
   "source": [
    "def configuracion_pantalla(port,address):\n",
    "    serial = i2c(port=port, address=address) #port:usualmente 1 o 2 #address: dirección de la pantalla\n",
    "    oled = ssd1306(serial)\n",
    "    return oled"
   ]
  },
  {
   "attachments": {},
   "cell_type": "markdown",
   "metadata": {},
   "source": [
    "## Imagenes a cargar"
   ]
  },
  {
   "cell_type": "code",
   "execution_count": 11,
   "metadata": {},
   "outputs": [],
   "source": [
    "#Retorna una tupla con las imagenes cargadas \n",
    "def carga_imagenes():\n",
    "\n",
    "    feliz_R = Image.open(r\"/home/gato/TT2/programa_gato/data/expresiones/feliz_R.bmp\")\n",
    "    feliz_L = Image.open(r\"/home/gato/TT2/programa_gato/data/expresiones/feliz_L.bmp\")\n",
    "\n",
    "    neutral_R = Image.open(r\"/home/gato/TT2/programa_gato/data/expresiones/neutral_R.bmp\")\n",
    "    neutral_L = Image.open(r\"/home/gato/TT2/programa_gato/data/expresiones/neutral_L.bmp\")\n",
    "\n",
    "    preocupado_R = Image.open(r\"/home/gato/TT2/programa_gato/data/expresiones/preocupado_R.bmp\")\n",
    "    preocupado_L = Image.open(r\"/home/gato/TT2/programa_gato/data/expresiones/preocupado_L.bmp\")\n",
    "\n",
    "    sueno_R = Image.open(r\"/home/gato/TT2/programa_gato/data/expresiones/sueno_R.bmp\")\n",
    "    sueno_L = Image.open(r\"/home/gato/TT2/programa_gato/data/expresiones/sueno_L.bmp\")\n",
    "\n",
    "    triste1_R = Image.open(r\"/home/gato/TT2/programa_gato/data/expresiones/triste1_R.bmp\")\n",
    "    triste1_L = Image.open(r\"/home/gato/TT2/programa_gato/data/expresiones/triste1_L.bmp\")\n",
    "\n",
    "    triste2_R = Image.open(r\"/home/gato/TT2/programa_gato/data/expresiones/triste2_R.bmp\")\n",
    "    triste2_L = Image.open(r\"/home/gato/TT2/programa_gato/data/expresiones/triste2_L.bmp\")\n",
    "\n",
    "    expresiones = ((feliz_R,feliz_L),(neutral_R,neutral_L),(preocupado_R,preocupado_L),\n",
    "                (sueno_R,sueno_L),(triste1_R,triste1_L),(triste2_R,triste2_L))\n",
    "    \n",
    "    return expresiones\n"
   ]
  },
  {
   "attachments": {},
   "cell_type": "markdown",
   "metadata": {},
   "source": [
    "## Desplegar imagenes"
   ]
  },
  {
   "cell_type": "code",
   "execution_count": 6,
   "metadata": {},
   "outputs": [],
   "source": [
    "def mostrar_imagen(imagenes,oled1:ssd1306,oled2:ssd1306):\n",
    "    oled1.clear()\n",
    "    oled2.clear()\n",
    "    oled1.display(imagenes[0])\n",
    "    oled2.display(imagenes[1])\n",
    "    return"
   ]
  },
  {
   "cell_type": "code",
   "execution_count": 4,
   "metadata": {},
   "outputs": [],
   "source": [
    "def mostrar_imagen_una_pantalla(imagenes,oled1:ssd1306):\n",
    "    oled1.clear()\n",
    "    oled1.display(imagenes[0])\n",
    "    return"
   ]
  },
  {
   "attachments": {},
   "cell_type": "markdown",
   "metadata": {},
   "source": [
    "## Emulación"
   ]
  },
  {
   "cell_type": "code",
   "execution_count": 1,
   "metadata": {},
   "outputs": [
    {
     "name": "stdout",
     "output_type": "stream",
     "text": [
      "pygame 2.2.0 (SDL 2.0.22, Python 3.10.8)\n",
      "Hello from the pygame community. https://www.pygame.org/contribute.html\n"
     ]
    },
    {
     "ename": "",
     "evalue": "",
     "output_type": "error",
     "traceback": [
      "\u001b[1;31mThe Kernel crashed while executing code in the the current cell or a previous cell. Please review the code in the cell(s) to identify a possible cause of the failure. Click <a href='https://aka.ms/vscodeJupyterKernelCrash'>here</a> for more info. View Jupyter <a href='command:jupyter.viewOutput'>log</a> for further details."
     ]
    }
   ],
   "source": [
    "from luma.emulator.device import pygame\n",
    "from PIL import Image\n",
    "\n",
    "im = Image.open(r\"C:\\Users\\kevin\\desktop\\10moSemestre\\TT2\\Programacion\\programa_rasp\\data\\expresiones\\feliz.bmp\")\n",
    "oled = pygame()\n",
    "oled.clear()\n",
    "oled.display(im)"
   ]
  },
  {
   "cell_type": "code",
   "execution_count": 31,
   "metadata": {},
   "outputs": [],
   "source": [
    "imagenes = carga_imagenes()\n",
    "oled = configuracion_pantalla(1, 0x3C)\n",
    "mostrar_imagen_una_pantalla(imagenes[2], oled)"
   ]
  }
 ],
 "metadata": {
  "kernelspec": {
   "display_name": "venv",
   "language": "python",
   "name": "python3"
  },
  "language_info": {
   "codemirror_mode": {
    "name": "ipython",
    "version": 3
   },
   "file_extension": ".py",
   "mimetype": "text/x-python",
   "name": "python",
   "nbconvert_exporter": "python",
   "pygments_lexer": "ipython3",
   "version": "3.9.2"
  },
  "orig_nbformat": 4,
  "vscode": {
   "interpreter": {
    "hash": "64156ec40057e4dbd6f707df17c5ceaf0ca2bcfe547d205fbb2a5937773354b9"
   }
  }
 },
 "nbformat": 4,
 "nbformat_minor": 2
}
