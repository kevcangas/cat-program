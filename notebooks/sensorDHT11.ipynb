{
 "cells": [
  {
   "attachments": {},
   "cell_type": "markdown",
   "metadata": {},
   "source": [
    "## Configuración librerías"
   ]
  },
  {
   "cell_type": "code",
   "execution_count": 1,
   "metadata": {},
   "outputs": [],
   "source": [
    "import adafruit_dht"
   ]
  },
  {
   "attachments": {},
   "cell_type": "markdown",
   "metadata": {},
   "source": [
    "## Configuración de pines"
   ]
  },
  {
   "cell_type": "code",
   "execution_count": 3,
   "metadata": {},
   "outputs": [
    {
     "name": "stderr",
     "output_type": "stream",
     "text": [
      "/home/gato/TT2/programa_gato/venv/lib/python3.9/site-packages/adafruit_blinka/microcontroller/bcm283x/pulseio/libgpiod_pulsein: error while loading shared libraries: libgpiod.so.2: cannot open shared object file: No such file or directory\n"
     ]
    },
    {
     "ename": "RuntimeError",
     "evalue": "Timed out waiting for PulseIn message. Make sure libgpiod is installed.",
     "output_type": "error",
     "traceback": [
      "\u001b[0;31m---------------------------------------------------------------------------\u001b[0m",
      "\u001b[0;31mRuntimeError\u001b[0m                              Traceback (most recent call last)",
      "Cell \u001b[0;32mIn[3], line 2\u001b[0m\n\u001b[1;32m      1\u001b[0m PIN_DHT \u001b[39m=\u001b[39m \u001b[39m13\u001b[39m \u001b[39m#REVISAR SI EL PIN ES CORRECTO (PIN BOARD O BCM)\u001b[39;00m\n\u001b[0;32m----> 2\u001b[0m DHT \u001b[39m=\u001b[39m adafruit_dht\u001b[39m.\u001b[39;49mDHT11(PIN_DHT)\n",
      "File \u001b[0;32m~/TT2/programa_gato/venv/lib/python3.9/site-packages/adafruit_dht.py:295\u001b[0m, in \u001b[0;36mDHT11.__init__\u001b[0;34m(self, pin, use_pulseio)\u001b[0m\n\u001b[1;32m    294\u001b[0m \u001b[39mdef\u001b[39;00m \u001b[39m__init__\u001b[39m(\u001b[39mself\u001b[39m, pin: Pin, use_pulseio: \u001b[39mbool\u001b[39m \u001b[39m=\u001b[39m _USE_PULSEIO):\n\u001b[0;32m--> 295\u001b[0m     \u001b[39msuper\u001b[39;49m()\u001b[39m.\u001b[39;49m\u001b[39m__init__\u001b[39;49m(\u001b[39mTrue\u001b[39;49;00m, pin, \u001b[39m18000\u001b[39;49m, use_pulseio)\n",
      "File \u001b[0;32m~/TT2/programa_gato/venv/lib/python3.9/site-packages/adafruit_dht.py:86\u001b[0m, in \u001b[0;36mDHTBase.__init__\u001b[0;34m(self, dht11, pin, trig_wait, use_pulseio, max_pulses)\u001b[0m\n\u001b[1;32m     83\u001b[0m \u001b[39m# We don't use a context because linux-based systems are sluggish\u001b[39;00m\n\u001b[1;32m     84\u001b[0m \u001b[39m# and we're better off having a running process\u001b[39;00m\n\u001b[1;32m     85\u001b[0m \u001b[39mif\u001b[39;00m \u001b[39mself\u001b[39m\u001b[39m.\u001b[39m_use_pulseio:\n\u001b[0;32m---> 86\u001b[0m     \u001b[39mself\u001b[39m\u001b[39m.\u001b[39mpulse_in \u001b[39m=\u001b[39m PulseIn(\u001b[39mself\u001b[39;49m\u001b[39m.\u001b[39;49m_pin, maxlen\u001b[39m=\u001b[39;49m\u001b[39mself\u001b[39;49m\u001b[39m.\u001b[39;49m_max_pulses, idle_state\u001b[39m=\u001b[39;49m\u001b[39mTrue\u001b[39;49;00m)\n\u001b[1;32m     87\u001b[0m     \u001b[39mself\u001b[39m\u001b[39m.\u001b[39mpulse_in\u001b[39m.\u001b[39mpause()\n",
      "File \u001b[0;32m~/TT2/programa_gato/venv/lib/python3.9/site-packages/adafruit_blinka/microcontroller/bcm283x/pulseio/PulseIn.py:83\u001b[0m, in \u001b[0;36mPulseIn.__init__\u001b[0;34m(self, pin, maxlen, idle_state)\u001b[0m\n\u001b[1;32m     81\u001b[0m \u001b[39mif\u001b[39;00m DEBUG:\n\u001b[1;32m     82\u001b[0m     \u001b[39mprint\u001b[39m(\u001b[39m\"\u001b[39m\u001b[39mWaiting for startup success message from subprocess\u001b[39m\u001b[39m\"\u001b[39m)\n\u001b[0;32m---> 83\u001b[0m message \u001b[39m=\u001b[39m \u001b[39mself\u001b[39;49m\u001b[39m.\u001b[39;49m_wait_receive_msg(timeout\u001b[39m=\u001b[39;49m\u001b[39m0.25\u001b[39;49m)\n\u001b[1;32m     84\u001b[0m \u001b[39mif\u001b[39;00m message[\u001b[39m0\u001b[39m] \u001b[39m!=\u001b[39m \u001b[39mb\u001b[39m\u001b[39m\"\u001b[39m\u001b[39m!\u001b[39m\u001b[39m\"\u001b[39m:\n\u001b[1;32m     85\u001b[0m     \u001b[39mraise\u001b[39;00m \u001b[39mRuntimeError\u001b[39;00m(\u001b[39m\"\u001b[39m\u001b[39mCould not establish message queue with subprocess\u001b[39m\u001b[39m\"\u001b[39m)\n",
      "File \u001b[0;32m~/TT2/programa_gato/venv/lib/python3.9/site-packages/adafruit_blinka/microcontroller/bcm283x/pulseio/PulseIn.py:101\u001b[0m, in \u001b[0;36mPulseIn._wait_receive_msg\u001b[0;34m(self, timeout, type)\u001b[0m\n\u001b[1;32m     99\u001b[0m             time\u001b[39m.\u001b[39msleep(\u001b[39m0.001\u001b[39m)  \u001b[39m# wait a bit then retry!\u001b[39;00m\n\u001b[1;32m    100\u001b[0m     \u001b[39m# uh-oh timed out\u001b[39;00m\n\u001b[0;32m--> 101\u001b[0m     \u001b[39mraise\u001b[39;00m \u001b[39mRuntimeError\u001b[39;00m(\n\u001b[1;32m    102\u001b[0m         \u001b[39m\"\u001b[39m\u001b[39mTimed out waiting for PulseIn message. Make sure libgpiod is installed.\u001b[39m\u001b[39m\"\u001b[39m\n\u001b[1;32m    103\u001b[0m     )\n\u001b[1;32m    104\u001b[0m message \u001b[39m=\u001b[39m \u001b[39mself\u001b[39m\u001b[39m.\u001b[39m_mq\u001b[39m.\u001b[39mreceive(block\u001b[39m=\u001b[39m\u001b[39mTrue\u001b[39;00m, \u001b[39mtype\u001b[39m\u001b[39m=\u001b[39m\u001b[39mtype\u001b[39m)\n\u001b[1;32m    105\u001b[0m \u001b[39mreturn\u001b[39;00m message\n",
      "\u001b[0;31mRuntimeError\u001b[0m: Timed out waiting for PulseIn message. Make sure libgpiod is installed."
     ]
    }
   ],
   "source": [
    "PIN_DHT = 27 #REVISAR SI EL PIN ES CORRECTO (PIN BOARD O BCM)\n",
    "DHT = adafruit_dht.DHT11(PIN_DHT)"
   ]
  },
  {
   "attachments": {},
   "cell_type": "markdown",
   "metadata": {},
   "source": [
    "## Lecutura de temperatura y humedad"
   ]
  },
  {
   "cell_type": "code",
   "execution_count": null,
   "metadata": {},
   "outputs": [],
   "source": [
    "temperatura = DHT.temperature\n",
    "humedad = DHT.humidity\n",
    "\n",
    "print(f'Temperatura={temperatura:0.1f} C  Humedad={humedad:0.1f}%')"
   ]
  },
  {
   "attachments": {},
   "cell_type": "markdown",
   "metadata": {},
   "source": [
    "## Función para la lectura de ambos parametros con el sensor"
   ]
  },
  {
   "cell_type": "code",
   "execution_count": null,
   "metadata": {},
   "outputs": [],
   "source": [
    "def lectura_temperatura_humedad(DHT):\n",
    "    temperatura = DHT.temperature\n",
    "    humedad = DHT.humidity\n",
    "    return temperatura, humedad"
   ]
  }
 ],
 "metadata": {
  "kernelspec": {
   "display_name": "venv",
   "language": "python",
   "name": "python3"
  },
  "language_info": {
   "codemirror_mode": {
    "name": "ipython",
    "version": 3
   },
   "file_extension": ".py",
   "mimetype": "text/x-python",
   "name": "python",
   "nbconvert_exporter": "python",
   "pygments_lexer": "ipython3",
   "version": "3.10.8"
  },
  "orig_nbformat": 4
 },
 "nbformat": 4,
 "nbformat_minor": 2
}
