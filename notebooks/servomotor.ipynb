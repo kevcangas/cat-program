{
 "cells": [
  {
   "attachments": {},
   "cell_type": "markdown",
   "metadata": {},
   "source": [
    "## Carga de librerías"
   ]
  },
  {
   "cell_type": "code",
   "execution_count": 1,
   "metadata": {},
   "outputs": [],
   "source": [
    "import time\n",
    "from math import pi\n",
    "from mat4py import loadmat\n",
    "from adafruit_servokit import ServoKit"
   ]
  },
  {
   "attachments": {},
   "cell_type": "markdown",
   "metadata": {},
   "source": [
    "## Configuración de los servomotores"
   ]
  },
  {
   "cell_type": "code",
   "execution_count": 2,
   "metadata": {},
   "outputs": [],
   "source": [
    "MIN_IMP = 500 #Pulso minimo para el servomotor\n",
    "MAX_IMP = 2500 #Pulso máximo para el servomotor\n",
    "MIN_ANG = 0 #Ángulo mínimo\n",
    "MAX_ANG = 120 #Ángulo máx\n",
    "\n",
    "nbPCAServo = 16\n",
    "pca = ServoKit(channels=16)\n",
    "\n",
    "for i in range(nbPCAServo):\n",
    "    pca.servo[i].set_pulse_width_range(MIN_IMP, MAX_IMP)\n",
    "\n",
    "#IDs de los servomotores\n",
    "PATAT_1 = [0,1,2]\n",
    "PATAT_2 = [3,4,5]\n",
    "PATAD_1 = [6,7,8]\n",
    "PATAD_2 = [9,10,11]"
   ]
  },
  {
   "attachments": {},
   "cell_type": "markdown",
   "metadata": {},
   "source": [
    "## Selección de rutina"
   ]
  },
  {
   "cell_type": "code",
   "execution_count": null,
   "metadata": {},
   "outputs": [],
   "source": [
    "#Esta función realiza la lectura de los archivos .mat\n",
    "#que contienen las rutinas del gatorobot\n",
    "\n",
    "def cargar_rutina(id_mov):\n",
    "    if(id_mov==0):\n",
    "        PT = loadmat(r'rutinas\\reposo_PT.mat')\n",
    "        PD = loadmat(r'rutinas\\reposo_PD.mat')\n",
    "    elif(id_mov==1):\n",
    "        PT = loadmat(r'rutinas\\pie_PT.mat')\n",
    "        PD = loadmat(r'rutinas\\pie_PD.mat')\n",
    "    elif(id_mov==2):\n",
    "        PT = loadmat(r'rutinas\\sentado_PT.mat')\n",
    "        PD = loadmat(r'rutinas\\sentado_PD.mat')\n",
    "    elif(id_mov==3):\n",
    "        PT = loadmat(r'rutinas\\jugando_PT.mat')\n",
    "        PD1 = loadmat(r'rutinas\\jugando_PD1.mat')\n",
    "        PD2 = loadmat(r'rutinas\\jugando_PD2.mat')\n",
    "        return PT,PD1,PD2\n",
    "\n",
    "    elif(id_mov==4):\n",
    "        PT = loadmat(r'rutinas\\estirado_PT.mat')\n",
    "        PD = loadmat(r'rutinas\\estirado_PD.mat')\n",
    "    elif(id_mov==5):\n",
    "        PT = loadmat(r'rutinas\\asustado_PT.mat')\n",
    "        PD = loadmat(r'rutinas\\asustado_PD.mat')\n",
    "    elif(id_mov==6):\n",
    "        PT = loadmat(r'rutinas\\caminando_PT.mat')\n",
    "        PD = loadmat(r'rutinas\\caminando_PD.mat')\n",
    "    \n",
    "    return PT,PD  "
   ]
  },
  {
   "attachments": {},
   "cell_type": "markdown",
   "metadata": {},
   "source": [
    "## Funciones para el control de los servos"
   ]
  },
  {
   "cell_type": "code",
   "execution_count": 3,
   "metadata": {},
   "outputs": [],
   "source": [
    "def movUnaPata(rutina,delay,id_servo=0):\n",
    "    for i in rutina:\n",
    "        pca.servo[id_servo].angle = i*180/pi\n",
    "        time.sleep(delay)"
   ]
  },
  {
   "cell_type": "code",
   "execution_count": null,
   "metadata": {},
   "outputs": [],
   "source": [
    "def movPatas(matT,matD,i,j):\n",
    "    #Pata trasera R \n",
    "    POSICION_SERVOS = [matT['q0v'][0][i], matT['q1v'][0][i], matT['q2v'][0][i]]\n",
    "    for j,k in PATAT_1,POSICION_SERVOS:\n",
    "        pca.servo[j].angle = k*pi/180\n",
    "\n",
    "    #Pata trasera L\n",
    "    POSICION_SERVOS = [matT['q0v'][0][i], matT['q1v'][0][i], matT['q2v'][0][i]]\n",
    "    for j,k in PATAT_2,POSICION_SERVOS:\n",
    "        pca.servo[j].angle = k*pi/180\n",
    "    \n",
    "    #Pata delantera R\n",
    "    POSICION_SERVOS = [matD['q0v'][0][i], matD['q1v'][0][i], matD['q2v'][0][i]]\n",
    "    for j,k in PATAD_1,POSICION_SERVOS:\n",
    "        pca.servo[j].angle = k*pi/180\n",
    "    \n",
    "    #Pata delantera L\n",
    "    POSICION_SERVOS = [matD['q0v'][0][i], matD['q1v'][0][i], matD['q2v'][0][i]]\n",
    "    for j,k in PATAD_2,POSICION_SERVOS:\n",
    "        pca.servo[j].angle = k*pi/180"
   ]
  },
  {
   "attachments": {},
   "cell_type": "markdown",
   "metadata": {},
   "source": [
    "## Prueba control de un servomotor"
   ]
  },
  {
   "cell_type": "code",
   "execution_count": 38,
   "metadata": {},
   "outputs": [],
   "source": [
    "#import numpy as np\n",
    "\n",
    "#rutina = np.linspace(0,pi/3,100)\n",
    "rutina=[pi]\n",
    "\n",
    "movUnaPata(rutina,0.75)"
   ]
  },
  {
   "attachments": {},
   "cell_type": "markdown",
   "metadata": {},
   "source": [
    "## Prueba movimiento todos los servos"
   ]
  },
  {
   "cell_type": "code",
   "execution_count": 98,
   "metadata": {},
   "outputs": [
    {
     "ename": "ImportError",
     "evalue": "\n\nIMPORTANT: PLEASE READ THIS FOR ADVICE ON HOW TO SOLVE THIS ISSUE!\n\nImporting the numpy C-extensions failed. This error can happen for\nmany reasons, often due to issues with your setup or how NumPy was\ninstalled.\n\nWe have compiled some common reasons and troubleshooting tips at:\n\n    https://numpy.org/devdocs/user/troubleshooting-importerror.html\n\nPlease note and check the following:\n\n  * The Python version is: Python3.9 from \"/home/gato/TT2/programa_gato/venv/bin/python\"\n  * The NumPy version is: \"1.24.2\"\n\nand make sure that they are the versions you expect.\nPlease carefully study the documentation linked above for further help.\n\nOriginal error was: libcblas.so.3: cannot open shared object file: No such file or directory\n",
     "output_type": "error",
     "traceback": [
      "\u001b[0;31m---------------------------------------------------------------------------\u001b[0m",
      "\u001b[0;31mImportError\u001b[0m                               Traceback (most recent call last)",
      "File \u001b[0;32m~/TT2/programa_gato/venv/lib/python3.9/site-packages/numpy/core/__init__.py:23\u001b[0m\n\u001b[1;32m     22\u001b[0m \u001b[39mtry\u001b[39;00m:\n\u001b[0;32m---> 23\u001b[0m     \u001b[39mfrom\u001b[39;00m \u001b[39m.\u001b[39;00m \u001b[39mimport\u001b[39;00m multiarray\n\u001b[1;32m     24\u001b[0m \u001b[39mexcept\u001b[39;00m \u001b[39mImportError\u001b[39;00m \u001b[39mas\u001b[39;00m exc:\n",
      "File \u001b[0;32m~/TT2/programa_gato/venv/lib/python3.9/site-packages/numpy/core/multiarray.py:10\u001b[0m\n\u001b[1;32m      9\u001b[0m \u001b[39mimport\u001b[39;00m \u001b[39mfunctools\u001b[39;00m\n\u001b[0;32m---> 10\u001b[0m \u001b[39mfrom\u001b[39;00m \u001b[39m.\u001b[39;00m \u001b[39mimport\u001b[39;00m overrides\n\u001b[1;32m     11\u001b[0m \u001b[39mfrom\u001b[39;00m \u001b[39m.\u001b[39;00m \u001b[39mimport\u001b[39;00m _multiarray_umath\n",
      "File \u001b[0;32m~/TT2/programa_gato/venv/lib/python3.9/site-packages/numpy/core/overrides.py:6\u001b[0m\n\u001b[1;32m      4\u001b[0m \u001b[39mimport\u001b[39;00m \u001b[39mos\u001b[39;00m\n\u001b[0;32m----> 6\u001b[0m \u001b[39mfrom\u001b[39;00m \u001b[39mnumpy\u001b[39;00m\u001b[39m.\u001b[39;00m\u001b[39mcore\u001b[39;00m\u001b[39m.\u001b[39;00m\u001b[39m_multiarray_umath\u001b[39;00m \u001b[39mimport\u001b[39;00m (\n\u001b[1;32m      7\u001b[0m     add_docstring, implement_array_function, _get_implementing_args)\n\u001b[1;32m      8\u001b[0m \u001b[39mfrom\u001b[39;00m \u001b[39mnumpy\u001b[39;00m\u001b[39m.\u001b[39;00m\u001b[39mcompat\u001b[39;00m\u001b[39m.\u001b[39;00m\u001b[39m_inspect\u001b[39;00m \u001b[39mimport\u001b[39;00m getargspec\n",
      "\u001b[0;31mImportError\u001b[0m: libcblas.so.3: cannot open shared object file: No such file or directory",
      "\nDuring handling of the above exception, another exception occurred:\n",
      "\u001b[0;31mImportError\u001b[0m                               Traceback (most recent call last)",
      "Cell \u001b[0;32mIn[98], line 1\u001b[0m\n\u001b[0;32m----> 1\u001b[0m \u001b[39mimport\u001b[39;00m \u001b[39mnumpy\u001b[39;00m \u001b[39mas\u001b[39;00m \u001b[39mnp\u001b[39;00m\n\u001b[1;32m      3\u001b[0m rutinaT,rutinaD \u001b[39m=\u001b[39m cargar_rutina(\u001b[39m0\u001b[39m)\n\u001b[1;32m      4\u001b[0m \u001b[39mfor\u001b[39;00m i \u001b[39min\u001b[39;00m \u001b[39mrange\u001b[39m(\u001b[39mlen\u001b[39m(rutinaT[\u001b[39m'\u001b[39m\u001b[39mq0v\u001b[39m\u001b[39m'\u001b[39m][\u001b[39m0\u001b[39m][:])):\n",
      "File \u001b[0;32m~/TT2/programa_gato/venv/lib/python3.9/site-packages/numpy/__init__.py:141\u001b[0m\n\u001b[1;32m    138\u001b[0m \u001b[39m# Allow distributors to run custom init code\u001b[39;00m\n\u001b[1;32m    139\u001b[0m \u001b[39mfrom\u001b[39;00m \u001b[39m.\u001b[39;00m \u001b[39mimport\u001b[39;00m _distributor_init\n\u001b[0;32m--> 141\u001b[0m \u001b[39mfrom\u001b[39;00m \u001b[39m.\u001b[39;00m \u001b[39mimport\u001b[39;00m core\n\u001b[1;32m    142\u001b[0m \u001b[39mfrom\u001b[39;00m \u001b[39m.\u001b[39;00m\u001b[39mcore\u001b[39;00m \u001b[39mimport\u001b[39;00m \u001b[39m*\u001b[39m\n\u001b[1;32m    143\u001b[0m \u001b[39mfrom\u001b[39;00m \u001b[39m.\u001b[39;00m \u001b[39mimport\u001b[39;00m compat\n",
      "File \u001b[0;32m~/TT2/programa_gato/venv/lib/python3.9/site-packages/numpy/core/__init__.py:49\u001b[0m\n\u001b[1;32m     25\u001b[0m     \u001b[39mimport\u001b[39;00m \u001b[39msys\u001b[39;00m\n\u001b[1;32m     26\u001b[0m     msg \u001b[39m=\u001b[39m \u001b[39m\"\"\"\u001b[39m\n\u001b[1;32m     27\u001b[0m \n\u001b[1;32m     28\u001b[0m \u001b[39mIMPORTANT: PLEASE READ THIS FOR ADVICE ON HOW TO SOLVE THIS ISSUE!\u001b[39m\n\u001b[0;32m   (...)\u001b[0m\n\u001b[1;32m     47\u001b[0m \u001b[39m\"\"\"\u001b[39m \u001b[39m%\u001b[39m (sys\u001b[39m.\u001b[39mversion_info[\u001b[39m0\u001b[39m], sys\u001b[39m.\u001b[39mversion_info[\u001b[39m1\u001b[39m], sys\u001b[39m.\u001b[39mexecutable,\n\u001b[1;32m     48\u001b[0m         __version__, exc)\n\u001b[0;32m---> 49\u001b[0m     \u001b[39mraise\u001b[39;00m \u001b[39mImportError\u001b[39;00m(msg)\n\u001b[1;32m     50\u001b[0m \u001b[39mfinally\u001b[39;00m:\n\u001b[1;32m     51\u001b[0m     \u001b[39mfor\u001b[39;00m envkey \u001b[39min\u001b[39;00m env_added:\n",
      "\u001b[0;31mImportError\u001b[0m: \n\nIMPORTANT: PLEASE READ THIS FOR ADVICE ON HOW TO SOLVE THIS ISSUE!\n\nImporting the numpy C-extensions failed. This error can happen for\nmany reasons, often due to issues with your setup or how NumPy was\ninstalled.\n\nWe have compiled some common reasons and troubleshooting tips at:\n\n    https://numpy.org/devdocs/user/troubleshooting-importerror.html\n\nPlease note and check the following:\n\n  * The Python version is: Python3.9 from \"/home/gato/TT2/programa_gato/venv/bin/python\"\n  * The NumPy version is: \"1.24.2\"\n\nand make sure that they are the versions you expect.\nPlease carefully study the documentation linked above for further help.\n\nOriginal error was: libcblas.so.3: cannot open shared object file: No such file or directory\n"
     ]
    }
   ],
   "source": [
    "import numpy as np\n",
    "\n",
    "rutinaT,rutinaD = cargar_rutina(0)\n",
    "for i in range(len(rutinaT['q0v'][0][:])):\n",
    "    movPatas(rutinaT, rutinaD, i, i)"
   ]
  },
  {
   "cell_type": "code",
   "execution_count": 127,
   "metadata": {},
   "outputs": [],
   "source": [
    "for _ in range(500):\n",
    "    pca.servo[0].angle = 0"
   ]
  }
 ],
 "metadata": {
  "kernelspec": {
   "display_name": "venv",
   "language": "python",
   "name": "python3"
  },
  "language_info": {
   "codemirror_mode": {
    "name": "ipython",
    "version": 3
   },
   "file_extension": ".py",
   "mimetype": "text/x-python",
   "name": "python",
   "nbconvert_exporter": "python",
   "pygments_lexer": "ipython3",
   "version": "3.9.2"
  },
  "orig_nbformat": 4,
  "vscode": {
   "interpreter": {
    "hash": "64156ec40057e4dbd6f707df17c5ceaf0ca2bcfe547d205fbb2a5937773354b9"
   }
  }
 },
 "nbformat": 4,
 "nbformat_minor": 2
}
