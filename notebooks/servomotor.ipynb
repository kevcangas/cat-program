{
 "cells": [
  {
   "attachments": {},
   "cell_type": "markdown",
   "metadata": {},
   "source": [
    "## Carga de librerías"
   ]
  },
  {
   "cell_type": "code",
   "execution_count": null,
   "metadata": {},
   "outputs": [],
   "source": [
    "import time\n",
    "from math import pi\n",
    "from mat4py import loadmat\n",
    "from adafruit_servokit import ServoKit"
   ]
  },
  {
   "attachments": {},
   "cell_type": "markdown",
   "metadata": {},
   "source": [
    "## Configuración de los servomotores"
   ]
  },
  {
   "cell_type": "code",
   "execution_count": null,
   "metadata": {},
   "outputs": [],
   "source": [
    "MIN_IMP = 500 #Pulso minimo para el servomotor\n",
    "MAX_IMP = 2500 #Pulso máximo para el servomotor\n",
    "MIN_ANG = 0 #Ángulo mínimo\n",
    "MAX_ANG = 180 #Ángulo máx\n",
    "\n",
    "nbPCAServo = 16\n",
    "pca = ServoKit(channels=16)\n",
    "\n",
    "for i in range(nbPCAServo):\n",
    "    pca.servo[i].set_pulse_width_range(MIN_IMP, MAX_ANG)"
   ]
  },
  {
   "attachments": {},
   "cell_type": "markdown",
   "metadata": {},
   "source": [
    "## Selección de rutina"
   ]
  },
  {
   "cell_type": "code",
   "execution_count": null,
   "metadata": {},
   "outputs": [],
   "source": [
    "#Esta función realiza la lectura de los archivos .mat\n",
    "#que contienen las rutinas del gatorobot\n",
    "\n",
    "def cargar_rutina(id_mov):\n",
    "    if(id_mov==0):\n",
    "        PT = loadmat(r'rutinas\\reposo_PT.mat')\n",
    "        PD = loadmat(r'rutinas\\reposo_PD.mat')\n",
    "    elif(id_mov==1):\n",
    "        PT = loadmat(r'rutinas\\pie_PT.mat')\n",
    "        PD = loadmat(r'rutinas\\pie_PD.mat')\n",
    "    elif(id_mov==2):\n",
    "        PT = loadmat(r'rutinas\\sentado_PT.mat')\n",
    "        PD = loadmat(r'rutinas\\sentado_PD.mat')\n",
    "    elif(id_mov==3):\n",
    "        PT = loadmat(r'rutinas\\jugando_PT.mat')\n",
    "        PD1 = loadmat(r'rutinas\\jugando_PD1.mat')\n",
    "        PD2 = loadmat(r'rutinas\\jugando_PD2.mat')\n",
    "        return PT,PD1,PD2\n",
    "\n",
    "    elif(id_mov==4):\n",
    "        PT = loadmat(r'rutinas\\estirado_PT.mat')\n",
    "        PD = loadmat(r'rutinas\\estirado_PD.mat')\n",
    "    elif(id_mov==5):\n",
    "        PT = loadmat(r'rutinas\\asustado_PT.mat')\n",
    "        PD = loadmat(r'rutinas\\asustado_PD.mat')\n",
    "    elif(id_mov==6):\n",
    "        PT = loadmat(r'rutinas\\caminando_PT.mat')\n",
    "        PD = loadmat(r'rutinas\\caminando_PD.mat')\n",
    "    \n",
    "    return PT,PD  "
   ]
  },
  {
   "attachments": {},
   "cell_type": "markdown",
   "metadata": {},
   "source": [
    "## Control de los servomotores independientes"
   ]
  },
  {
   "cell_type": "code",
   "execution_count": null,
   "metadata": {},
   "outputs": [],
   "source": [
    "servo_selec = 0 #Servo seleccionado\n",
    "rutina = [] #Esta lista contiene los valores de la rutina del servomotor\n",
    "for i in rutina:\n",
    "    pca.servo[servo_selec].angle = i*pi/180\n",
    "    time.sleep(0.01)"
   ]
  },
  {
   "attachments": {},
   "cell_type": "markdown",
   "metadata": {},
   "source": [
    "## Control de servomotores juntos"
   ]
  },
  {
   "cell_type": "code",
   "execution_count": null,
   "metadata": {},
   "outputs": [],
   "source": [
    "servo_selec_PD = [] #Servos seleccionados (la lista contiene la dirección de cada servo)\n",
    "servo_selec_PT = []\n",
    "\n",
    "rutina_PD = [] #Esta lista contiene los valores de la rutina del servomotor\n",
    "rutina_PT = []\n",
    "\n",
    "for i in range(rutina_PD):\n",
    "    \n",
    "    #Pata trasera derecha\n",
    "    pca.servo[0].angle = rutina_PD[i]*pi/180\n",
    "    pca.servo[1].angle = rutina_PD[i]*pi/180\n",
    "    \n",
    "    time.sleep(0.01)\n"
   ]
  }
 ],
 "metadata": {
  "kernelspec": {
   "display_name": "venv",
   "language": "python",
   "name": "python3"
  },
  "language_info": {
   "codemirror_mode": {
    "name": "ipython",
    "version": 3
   },
   "file_extension": ".py",
   "mimetype": "text/x-python",
   "name": "python",
   "nbconvert_exporter": "python",
   "pygments_lexer": "ipython3",
   "version": "3.9.2"
  },
  "orig_nbformat": 4,
  "vscode": {
   "interpreter": {
    "hash": "59a8fdc870e3104ebece84d0f94f3e6a8de3c1684494b1aa3c2a55cc05aadae6"
   }
  }
 },
 "nbformat": 4,
 "nbformat_minor": 2
}
