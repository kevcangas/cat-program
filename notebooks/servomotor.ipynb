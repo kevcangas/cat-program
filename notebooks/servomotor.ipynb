{
 "cells": [
  {
   "attachments": {},
   "cell_type": "markdown",
   "metadata": {},
   "source": [
    "## Carga de librerías"
   ]
  },
  {
   "cell_type": "code",
   "execution_count": null,
   "metadata": {},
   "outputs": [],
   "source": [
    "import time\n",
    "from math import pi\n",
    "from mat4py import loadmat\n",
    "from adafruit_servokit import ServoKit"
   ]
  },
  {
   "attachments": {},
   "cell_type": "markdown",
   "metadata": {},
   "source": [
    "## Configuración de los servomotores"
   ]
  },
  {
   "cell_type": "code",
   "execution_count": null,
   "metadata": {},
   "outputs": [],
   "source": [
    "MIN_IMP = 500 #Pulso minimo para el servomotor\n",
    "MAX_IMP = 2500 #Pulso máximo para el servomotor\n",
    "MIN_ANG = 0 #Ángulo mínimo\n",
    "MAX_ANG = 180 #Ángulo máx\n",
    "\n",
    "nbPCAServo = 16\n",
    "pca = ServoKit(channels=16)\n",
    "\n",
    "for i in range(nbPCAServo):\n",
    "    pca.servo[i].set_pulse_width_range(MIN_IMP, MAX_ANG)\n",
    "\n",
    "#IDs de los servomotores\n",
    "PATAT_1 = [0,1,2]\n",
    "PATAT_2 = [3,4,5]\n",
    "PATAD_1 = [6,7,8]\n",
    "PATAD_2 = [9,10,11]"
   ]
  },
  {
   "attachments": {},
   "cell_type": "markdown",
   "metadata": {},
   "source": [
    "## Selección de rutina"
   ]
  },
  {
   "cell_type": "code",
   "execution_count": null,
   "metadata": {},
   "outputs": [],
   "source": [
    "#Esta función realiza la lectura de los archivos .mat\n",
    "#que contienen las rutinas del gatorobot\n",
    "\n",
    "def cargar_rutina(id_mov):\n",
    "    if(id_mov==0):\n",
    "        PT = loadmat(r'data/rutinas/reposo_PT.mat')\n",
    "        PD = loadmat(r'data/rutinas/reposo_PD.mat')\n",
    "    elif(id_mov==1):\n",
    "        PT = loadmat(r'data/rutinas/pie_PT.mat')\n",
    "        PD = loadmat(r'data/rutinas/pie_PD.mat')\n",
    "    elif(id_mov==2):\n",
    "        PT = loadmat(r'data/rutinas/sentado_PT.mat')\n",
    "        PD = loadmat(r'data/rutinas/sentado_PD.mat')\n",
    "    elif(id_mov==3):\n",
    "        PT = loadmat(r'data/rutinas/jugando_PT.mat')\n",
    "        PD1 = loadmat(r'data/rutinas/jugando_PD1.mat')\n",
    "        PD2 = loadmat(r'data/rutinas/jugando_PD2.mat')\n",
    "        return PT,PD1,PD2\n",
    "\n",
    "    elif(id_mov==4):\n",
    "        PT = loadmat(r'data/rutinas/estirado_PT.mat')\n",
    "        PD = loadmat(r'data/rutinas/estirado_PD.mat')\n",
    "    elif(id_mov==5):\n",
    "        PT = loadmat(r'data/rutinas/asustado_PT.mat')\n",
    "        PD = loadmat(r'data/rutinas/asustado_PD.mat')\n",
    "    elif(id_mov==6):\n",
    "        PT = loadmat(r'data/rutinas/caminando_PT.mat')\n",
    "        PD = loadmat(r'data/rutinas/caminando_PD.mat')\n",
    "    \n",
    "    return PT,PD  "
   ]
  },
  {
   "attachments": {},
   "cell_type": "markdown",
   "metadata": {},
   "source": [
    "## Funciones para el control de los servos"
   ]
  },
  {
   "cell_type": "code",
   "execution_count": null,
   "metadata": {},
   "outputs": [],
   "source": [
    "def mov_una_pata(rutina,id_servo=0):\n",
    "    for i in rutina:\n",
    "        pca.servo[id_servo].angle = i*pi/180\n",
    "        time.sleep(0.01)"
   ]
  },
  {
   "cell_type": "code",
   "execution_count": null,
   "metadata": {},
   "outputs": [],
   "source": [
    "def mov_patas(matT,matD,i,j):\n",
    "    #Pata trasera R \n",
    "    POSICION_SERVOS = [matT['q0v'][0][i], matT['q1v'][0][i], matT['q2v'][0][i]]\n",
    "    for j,k in PATAT_1,POSICION_SERVOS:\n",
    "        pca.servo[j].angle = k*pi/180\n",
    "\n",
    "    #Pata trasera L\n",
    "    POSICION_SERVOS = [matT['q0v'][0][i], matT['q1v'][0][i], matT['q2v'][0][i]]\n",
    "    for j,k in PATAT_2,POSICION_SERVOS:\n",
    "        pca.servo[j].angle = k*pi/180\n",
    "    \n",
    "    #Pata delantera R\n",
    "    POSICION_SERVOS = [matD['q0v'][0][i], matD['q1v'][0][i], matD['q2v'][0][i]]\n",
    "    for j,k in PATAD_1,POSICION_SERVOS:\n",
    "        pca.servo[j].angle = k*pi/180\n",
    "    \n",
    "    #Pata delantera L\n",
    "    POSICION_SERVOS = [matD['q0v'][0][i], matD['q1v'][0][i], matD['q2v'][0][i]]\n",
    "    for j,k in PATAD_2,POSICION_SERVOS:\n",
    "        pca.servo[j].angle = k*pi/180"
   ]
  },
  {
   "attachments": {},
   "cell_type": "markdown",
   "metadata": {},
   "source": [
    "## Prueba control de un servomotor"
   ]
  },
  {
   "cell_type": "code",
   "execution_count": null,
   "metadata": {},
   "outputs": [],
   "source": [
    "import numpy as np\n",
    "\n",
    "rutina = np.linspace(0,pi/3,100)\n",
    "mov_una_pata(rutina)"
   ]
  },
  {
   "attachments": {},
   "cell_type": "markdown",
   "metadata": {},
   "source": [
    "## Prueba movimiento todos los servos"
   ]
  },
  {
   "cell_type": "code",
   "execution_count": null,
   "metadata": {},
   "outputs": [],
   "source": [
    "import numpy as np\n",
    "\n",
    "rutinaT,rutinaD = cargar_rutina(0)\n",
    "for i in range(len(rutinaT['q0v'][0][:])):\n",
    "    mov_patas(rutinaT, rutinaD, i, i)"
   ]
  }
 ],
 "metadata": {
  "kernelspec": {
   "display_name": "venv",
   "language": "python",
   "name": "python3"
  },
  "language_info": {
   "codemirror_mode": {
    "name": "ipython",
    "version": 3
   },
   "file_extension": ".py",
   "mimetype": "text/x-python",
   "name": "python",
   "nbconvert_exporter": "python",
   "pygments_lexer": "ipython3",
   "version": "3.10.8"
  },
  "orig_nbformat": 4,
  "vscode": {
   "interpreter": {
    "hash": "64156ec40057e4dbd6f707df17c5ceaf0ca2bcfe547d205fbb2a5937773354b9"
   }
  }
 },
 "nbformat": 4,
 "nbformat_minor": 2
}
