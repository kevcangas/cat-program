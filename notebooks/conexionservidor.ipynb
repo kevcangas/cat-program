{
 "cells": [
  {
   "attachments": {},
   "cell_type": "markdown",
   "metadata": {},
   "source": [
    "## Carga de librerías"
   ]
  },
  {
   "cell_type": "code",
   "execution_count": null,
   "metadata": {},
   "outputs": [],
   "source": [
    "import requests"
   ]
  },
  {
   "attachments": {},
   "cell_type": "markdown",
   "metadata": {},
   "source": [
    "## Configruación de la información a mandar"
   ]
  },
  {
   "cell_type": "code",
   "execution_count": null,
   "metadata": {},
   "outputs": [],
   "source": [
    "def data_a_enviar(d1,d2,d3,d4,d5,d6,d7,d8):\n",
    "    data = {\n",
    "        'medicion1': d1,\n",
    "        'medicion2': d2,\n",
    "        'medicion3': d3,\n",
    "        'medicion4': d4,\n",
    "        'medicion5': d5,\n",
    "        'medicion6': d6,\n",
    "        'medicion7': d7,\n",
    "        'medicion8': d8,\n",
    "    }\n",
    "    return data"
   ]
  },
  {
   "cell_type": "code",
   "execution_count": null,
   "metadata": {},
   "outputs": [],
   "source": [
    "URL_SERVIDOR = '192.168.1.198:80'\n",
    "PAGINA = \"/control/1/subir_medicion\"\n",
    "\n",
    "d1 = 15\n",
    "d2 = True\n",
    "d3 = True\n",
    "d4 = True\n",
    "d5 = False\n",
    "d6 = 2\n",
    "d7 = True\n",
    "d8 = 3\n",
    "\n",
    "requests.post(URL_SERVIDOR + PAGINA, data_a_enviar(d1,d2,d3,d4,d5,d6,d7,d8))\n"
   ]
  }
 ],
 "metadata": {
  "kernelspec": {
   "display_name": "venv",
   "language": "python",
   "name": "python3"
  },
  "language_info": {
   "name": "python",
   "version": "3.10.8"
  },
  "orig_nbformat": 4
 },
 "nbformat": 4,
 "nbformat_minor": 2
}
