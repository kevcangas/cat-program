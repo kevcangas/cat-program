{
 "cells": [
  {
   "attachments": {},
   "cell_type": "markdown",
   "metadata": {},
   "source": [
    "## Carga de librerías"
   ]
  },
  {
   "cell_type": "code",
   "execution_count": 12,
   "metadata": {},
   "outputs": [],
   "source": [
    "import requests\n",
    "\n",
    "#URL_SERVIDOR = 'http://192.168.1.198:80'\n",
    "URL_SERVIDOR = 'http://169.254.2.167:80'\n",
    "PAGINA_ENV = \"/control/1/lectura_medicion/\"\n",
    "PAGINA_REC = \"/control/1/lectura_comando/\""
   ]
  },
  {
   "attachments": {},
   "cell_type": "markdown",
   "metadata": {},
   "source": [
    "## Configruación de la información a mandar"
   ]
  },
  {
   "cell_type": "code",
   "execution_count": 2,
   "metadata": {},
   "outputs": [],
   "source": [
    "def data_a_enviar(d1,d2,d3,d4,d5,d6,d7,d8):\n",
    "    data = {\n",
    "        'medicion1': d1,\n",
    "        'medicion2': d2,\n",
    "        'medicion3': d3,\n",
    "        'medicion4': d4,\n",
    "        'medicion5': d5,\n",
    "        'medicion6': d6,\n",
    "        'medicion7': d7,\n",
    "        'medicion8': d8,\n",
    "    }\n",
    "    return data"
   ]
  },
  {
   "attachments": {},
   "cell_type": "markdown",
   "metadata": {},
   "source": [
    "## Envío de la información al servidor"
   ]
  },
  {
   "cell_type": "code",
   "execution_count": 16,
   "metadata": {},
   "outputs": [
    {
     "data": {
      "text/plain": [
       "<Response [200]>"
      ]
     },
     "execution_count": 16,
     "metadata": {},
     "output_type": "execute_result"
    }
   ],
   "source": [
    "d1 = 90\n",
    "d2 = False\n",
    "d3 = True\n",
    "d4 = True\n",
    "d5 = True\n",
    "d6 = 4\n",
    "d7 = False\n",
    "d8 = 1\n",
    "\n",
    "requests.post(URL_SERVIDOR + PAGINA_ENV, data_a_enviar(d1,d2,d3,d4,d5,d6,d7,d8))"
   ]
  },
  {
   "attachments": {},
   "cell_type": "markdown",
   "metadata": {},
   "source": [
    "## Función para el envio de datos"
   ]
  },
  {
   "cell_type": "code",
   "execution_count": null,
   "metadata": {},
   "outputs": [],
   "source": [
    "#Envia la información contendia en lecturas a la página\n",
    "\n",
    "def envio_datos(URL_SERVIDOR, PAGINA, lecturas):\n",
    "    data = {\n",
    "        'medicion1': lecturas[0],\n",
    "        'medicion2': lecturas[1],\n",
    "        'medicion3': lecturas[2],\n",
    "        'medicion4': lecturas[3],\n",
    "        'medicion5': lecturas[4],\n",
    "        'medicion6': lecturas[5],\n",
    "        'medicion7': lecturas[6],\n",
    "        'medicion8': lecturas[7],\n",
    "    }\n",
    "    requests.post(URL_SERVIDOR + PAGINA, data)\n",
    "    return"
   ]
  },
  {
   "attachments": {},
   "cell_type": "markdown",
   "metadata": {},
   "source": [
    "## Función recepción de datos"
   ]
  },
  {
   "cell_type": "code",
   "execution_count": null,
   "metadata": {},
   "outputs": [],
   "source": [
    "#Regresa un diccionario con la información recibida de la página\n",
    "\n",
    "def recepcion_datos(URL_SERVIDOR, PAGINA_REC):\n",
    "    response = requests.get(URL_SERVIDOR + PAGINA_REC)\n",
    "    return response.json()"
   ]
  }
 ],
 "metadata": {
  "kernelspec": {
   "display_name": "venv",
   "language": "python",
   "name": "python3"
  },
  "language_info": {
   "codemirror_mode": {
    "name": "ipython",
    "version": 3
   },
   "file_extension": ".py",
   "mimetype": "text/x-python",
   "name": "python",
   "nbconvert_exporter": "python",
   "pygments_lexer": "ipython3",
   "version": "3.9.2"
  },
  "orig_nbformat": 4
 },
 "nbformat": 4,
 "nbformat_minor": 2
}
