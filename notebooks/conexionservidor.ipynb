{
 "cells": [
  {
   "attachments": {},
   "cell_type": "markdown",
   "metadata": {},
   "source": [
    "## Carga de librerías"
   ]
  },
  {
   "cell_type": "code",
   "execution_count": 1,
   "metadata": {},
   "outputs": [],
   "source": [
    "import requests\n",
    "\n",
    "URL_SERVIDOR = 'http://192.168.1.198:80'\n",
    "PAGINA = \"/control/1/lectura_medicion/\""
   ]
  },
  {
   "attachments": {},
   "cell_type": "markdown",
   "metadata": {},
   "source": [
    "## Configruación de la información a mandar"
   ]
  },
  {
   "cell_type": "code",
   "execution_count": 37,
   "metadata": {},
   "outputs": [],
   "source": [
    "def data_a_enviar(d1,d2,d3,d4,d5,d6,d7,d8):\n",
    "    data = {\n",
    "        'medicion1': d1,\n",
    "        'medicion2': d2,\n",
    "        'medicion3': d3,\n",
    "        'medicion4': d4,\n",
    "        'medicion5': d5,\n",
    "        'medicion6': d6,\n",
    "        'medicion7': d7,\n",
    "        'medicion8': d8,\n",
    "    }\n",
    "    return data"
   ]
  },
  {
   "attachments": {},
   "cell_type": "markdown",
   "metadata": {},
   "source": [
    "## Envío de la información al servidor"
   ]
  },
  {
   "cell_type": "code",
   "execution_count": 100,
   "metadata": {},
   "outputs": [
    {
     "data": {
      "text/plain": [
       "<Response [200]>"
      ]
     },
     "execution_count": 100,
     "metadata": {},
     "output_type": "execute_result"
    }
   ],
   "source": [
    "d1 = 3\n",
    "d2 = True\n",
    "d3 = True\n",
    "d4 = True\n",
    "d5 = False\n",
    "d6 = 4\n",
    "d7 = True\n",
    "d8 = 3\n",
    "\n",
    "requests.post(URL_SERVIDOR + PAGINA, data_a_enviar(d1,d2,d3,d4,d5,d6,d7,d8))"
   ]
  },
  {
   "attachments": {},
   "cell_type": "markdown",
   "metadata": {},
   "source": [
    "## Función para el envio de datos"
   ]
  },
  {
   "cell_type": "code",
   "execution_count": null,
   "metadata": {},
   "outputs": [],
   "source": [
    "def envio_datos(URL_SERVIDOR, PAGINA, lecturas):\n",
    "    data = {\n",
    "        'medicion1': lecturas[0],\n",
    "        'medicion2': lecturas[1],\n",
    "        'medicion3': lecturas[2],\n",
    "        'medicion4': lecturas[3],\n",
    "        'medicion5': lecturas[4],\n",
    "        'medicion6': lecturas[5],\n",
    "        'medicion7': lecturas[6],\n",
    "        'medicion8': lecturas[7],\n",
    "    }\n",
    "    requests.post(URL_SERVIDOR + PAGINA, data)\n",
    "    return"
   ]
  }
 ],
 "metadata": {
  "kernelspec": {
   "display_name": "venv",
   "language": "python",
   "name": "python3"
  },
  "language_info": {
   "codemirror_mode": {
    "name": "ipython",
    "version": 3
   },
   "file_extension": ".py",
   "mimetype": "text/x-python",
   "name": "python",
   "nbconvert_exporter": "python",
   "pygments_lexer": "ipython3",
   "version": "3.9.2"
  },
  "orig_nbformat": 4
 },
 "nbformat": 4,
 "nbformat_minor": 2
}
